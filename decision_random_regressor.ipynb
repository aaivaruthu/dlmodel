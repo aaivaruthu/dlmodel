{
 "cells": [
  {
   "cell_type": "code",
   "execution_count": null,
   "metadata": {},
   "outputs": [],
   "source": [
    "import pandas as pd\n",
    "import numpy as np\n",
    "from sklearn.model_selection import train_test_split\n",
    "from sklearn.tree import DecisionTreeRegressor\n",
    "from sklearn.ensemble import RandomForestRegressor\n",
    "from sklearn.metrics import mean_absolute_error, mean_squared_error, r2_score\n",
    "from sklearn.model_selection import GridSearchCV\n",
    "#https://www.kaggle.com/datasets/ashydv/housing-dataset\n",
    "# Load dataset\n",
    "data = pd.read_csv(\"Housing.csv\")  # Replace with your dataset path\n",
    "\n",
    "# Data preprocessing\n",
    "data = pd.get_dummies(data, drop_first=True)  # One-hot encoding for categorical features\n",
    "data.fillna(data.mean(), inplace=True)  # Fill missing values\n",
    "\n",
    "# Separate features and target variable\n",
    "X = data.drop(\"price\", axis=1)  # Replace 'SalePrice' with your target variable column\n",
    "y = data[\"price\"]\n",
    "\n",
    "# Split data\n",
    "X_train, X_test, y_train, y_test = train_test_split(X, y, test_size=0.2, random_state=42)\n",
    "\n",
    "# Decision Tree Regressor\n",
    "tree_regressor = DecisionTreeRegressor(random_state=42)\n",
    "tree_regressor.fit(X_train, y_train)\n",
    "y_pred_tree = tree_regressor.predict(X_test)\n",
    "print(\"Decision Tree MAE:\", mean_absolute_error(y_test, y_pred_tree))\n",
    "print(\"Decision Tree RMSE:\", mean_squared_error(y_test, y_pred_tree, squared=False))\n",
    "print(\"Decision Tree R2:\", r2_score(y_test, y_pred_tree))\n",
    "\n",
    "# Random Forest Regressor\n",
    "forest_regressor = RandomForestRegressor(n_estimators=100, random_state=42)\n",
    "forest_regressor.fit(X_train, y_train)\n",
    "y_pred_forest = forest_regressor.predict(X_test)\n",
    "print(\"\\nRandom Forest MAE:\", mean_absolute_error(y_test, y_pred_forest))\n",
    "print(\"Random Forest RMSE:\", mean_squared_error(y_test, y_pred_forest, squared=False))\n",
    "print(\"Random Forest R2:\", r2_score(y_test, y_pred_forest))\n",
    "\n",
    "# Hyperparameter tuning for Random Forest\n",
    "param_grid = {\n",
    "    'n_estimators': [50, 100, 200],\n",
    "    'max_depth': [None, 10, 20, 30],\n",
    "    'min_samples_split': [2, 5, 10]\n",
    "}\n",
    "grid_search = GridSearchCV(RandomForestRegressor(random_state=42), param_grid, cv=5, scoring='neg_mean_absolute_error')\n",
    "grid_search.fit(X_train, y_train)\n",
    "print(\"Best Random Forest parameters:\", grid_search.best_params_)"
   ]
  }
 ],
 "metadata": {
  "language_info": {
   "name": "python"
  }
 },
 "nbformat": 4,
 "nbformat_minor": 2
}
